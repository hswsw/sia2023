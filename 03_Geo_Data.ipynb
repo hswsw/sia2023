{
  "cells": [
    {
      "cell_type": "markdown",
      "metadata": {
        "id": "view-in-github",
        "colab_type": "text"
      },
      "source": [
        "<a href=\"https://colab.research.google.com/github/smj-lab2023/sia2023/blob/main/03_Geo_Data.ipynb\" target=\"_parent\"><img src=\"https://colab.research.google.com/assets/colab-badge.svg\" alt=\"Open In Colab\"/></a>"
      ]
    },
    {
      "cell_type": "markdown",
      "id": "304b00cc",
      "metadata": {
        "id": "304b00cc"
      },
      "source": [
        "## 한글 폰트 설치\n",
        "\n",
        "- 참고: https://teddylee777.github.io/colab/colab-korean"
      ]
    },
    {
      "cell_type": "code",
      "execution_count": null,
      "id": "c05dbe13",
      "metadata": {
        "id": "c05dbe13"
      },
      "outputs": [],
      "source": [
        "!sudo apt-get install -y fonts-nanum\n",
        "!sudo fc-cache -fv\n",
        "!rm ~/.cache/matplotlib -rf"
      ]
    },
    {
      "cell_type": "markdown",
      "source": [
        "런타임 다시시작 : 재실행하기"
      ],
      "metadata": {
        "id": "Gsb0BuXLB7gJ"
      },
      "id": "Gsb0BuXLB7gJ"
    },
    {
      "cell_type": "markdown",
      "id": "b6c703cd",
      "metadata": {
        "id": "b6c703cd"
      },
      "source": [
        "## 데이터셋"
      ]
    },
    {
      "cell_type": "code",
      "source": [
        "%pip install teddynote -q"
      ],
      "metadata": {
        "id": "lEVfaf2uBhTo"
      },
      "id": "lEVfaf2uBhTo",
      "execution_count": null,
      "outputs": []
    },
    {
      "cell_type": "code",
      "execution_count": null,
      "id": "8f3c7ac9",
      "metadata": {
        "id": "8f3c7ac9"
      },
      "outputs": [],
      "source": [
        "from teddynote import dataset\n",
        "\n",
        "dataset.download('지하철승하차인원')"
      ]
    },
    {
      "cell_type": "markdown",
      "id": "3ed44c55",
      "metadata": {
        "id": "3ed44c55"
      },
      "source": [
        "- [서울교통공사_월별 승하차인원](https://www.data.go.kr/data/15044249/fileData.do)\n",
        "- [지하철역 주소 정보](http://data.seoul.go.kr/dataList/OA-12035/S/1/datasetView.do)"
      ]
    },
    {
      "cell_type": "markdown",
      "id": "ee933c69",
      "metadata": {
        "id": "ee933c69"
      },
      "source": [
        "## 모듈 import & 파일 로드"
      ]
    },
    {
      "cell_type": "code",
      "execution_count": null,
      "id": "09cd4521",
      "metadata": {
        "id": "09cd4521"
      },
      "outputs": [],
      "source": [
        "import os\n",
        "import pandas as pd\n",
        "import numpy as np\n",
        "import requests\n",
        "import json\n",
        "import matplotlib.pyplot as plt\n",
        "import seaborn as sns\n",
        "\n",
        "plt.rcParams['font.family'] = 'NanumGothic'\n",
        "\n",
        "DATA = 'data'"
      ]
    },
    {
      "cell_type": "code",
      "execution_count": null,
      "id": "a75fb859",
      "metadata": {
        "id": "a75fb859"
      },
      "outputs": [],
      "source": [
        "# 파일 로드\n",
        "file1 = os.path.join(DATA, '지하철_승하차인원.csv')\n",
        "df = pd.read_csv(file1, encoding='euc-kr')\n",
        "df"
      ]
    },
    {
      "cell_type": "markdown",
      "id": "b24722b1",
      "metadata": {
        "id": "b24722b1"
      },
      "source": [
        "## 역명에 대한 클린징"
      ]
    },
    {
      "cell_type": "code",
      "execution_count": null,
      "id": "cd859498",
      "metadata": {
        "id": "cd859498"
      },
      "outputs": [],
      "source": [
        "import re\n",
        "\n",
        "# Regular Expression 적용하여 ()괄호를 제거 후 추출\n",
        "pattern_string = r'.+(?=\\()'\n",
        "pattern = re.compile(pattern_string)"
      ]
    },
    {
      "cell_type": "code",
      "execution_count": null,
      "id": "4bee0fdf",
      "metadata": {
        "id": "4bee0fdf"
      },
      "outputs": [],
      "source": [
        "pattern.match('올림픽공원(9)').group().strip()"
      ]
    },
    {
      "cell_type": "code",
      "execution_count": null,
      "id": "04b56719",
      "metadata": {
        "id": "04b56719"
      },
      "outputs": [],
      "source": [
        "def clean_station(x):\n",
        "    # 코드입력\n",
        "    location = pattern.match(x)\n",
        "    if location:\n",
        "        loc = location.group().strip()\n",
        "    else:\n",
        "        loc = x\n",
        "    return loc   "
      ]
    },
    {
      "cell_type": "code",
      "execution_count": null,
      "id": "3dfd873e",
      "metadata": {
        "scrolled": true,
        "id": "3dfd873e"
      },
      "outputs": [],
      "source": [
        "# 코드입력\n",
        "df['역명_clean'] = df['역명'].apply(clean_station)\n",
        "df[['역명_clean', '역명']].head(10)"
      ]
    },
    {
      "cell_type": "markdown",
      "id": "e2ba10ea",
      "metadata": {
        "id": "e2ba10ea"
      },
      "source": [
        "`역명` 컬럼을 제거한 뒤, `역명_clean`컬럼을 `역명`으로 변환합니다."
      ]
    },
    {
      "cell_type": "code",
      "execution_count": null,
      "id": "3f61b5b2",
      "metadata": {
        "id": "3f61b5b2"
      },
      "outputs": [],
      "source": [
        "# 코드입력\n",
        "df = df.drop('역명', axis=1)\n",
        "df = df.rename({'역명_clean':'역명'}, axis=1)\n",
        "df.head()"
      ]
    },
    {
      "cell_type": "markdown",
      "id": "ec13957d",
      "metadata": {
        "id": "ec13957d"
      },
      "source": [
        "## 중복 되는 역에 대한 승하차 인원 합계 환산"
      ]
    },
    {
      "cell_type": "code",
      "execution_count": null,
      "id": "8eb71425",
      "metadata": {
        "id": "8eb71425"
      },
      "outputs": [],
      "source": [
        "df.loc[df['역명'] == '서울역']"
      ]
    },
    {
      "cell_type": "code",
      "execution_count": null,
      "id": "51d85da7",
      "metadata": {
        "id": "51d85da7"
      },
      "outputs": [],
      "source": [
        "df.loc[df['역명'] == '고속터미널']"
      ]
    },
    {
      "cell_type": "markdown",
      "id": "cc589549",
      "metadata": {
        "id": "cc589549"
      },
      "source": [
        "`역명`을 기준으로 승하차인원에 대한 합계를 구합니다."
      ]
    },
    {
      "cell_type": "code",
      "execution_count": null,
      "id": "cb17607c",
      "metadata": {
        "id": "cb17607c"
      },
      "outputs": [],
      "source": [
        "# 코드입력\n",
        "df_total = df.groupby('역명').sum().reset_index().drop('역번호', axis=1)\n",
        "df_total"
      ]
    },
    {
      "cell_type": "markdown",
      "id": "49b4b279",
      "metadata": {
        "id": "49b4b279"
      },
      "source": [
        "**역번호**도 합계가 구해졌기 때문에, 역번호를 이전 데이터프레임으로부터 병합합니다."
      ]
    },
    {
      "cell_type": "code",
      "execution_count": null,
      "id": "0aa1b5db",
      "metadata": {
        "id": "0aa1b5db"
      },
      "outputs": [],
      "source": [
        "df_merged = pd.merge(df_total, df.drop_duplicates('역명', keep='first')[['역명', '역번호']], how='left')\n",
        "df_merged"
      ]
    },
    {
      "cell_type": "markdown",
      "id": "0cea2db6",
      "metadata": {
        "id": "0cea2db6"
      },
      "source": [
        "**고속터미널** 역에 대한 합계치 비교"
      ]
    },
    {
      "cell_type": "code",
      "execution_count": null,
      "id": "4f1059cb",
      "metadata": {
        "id": "4f1059cb"
      },
      "outputs": [],
      "source": [
        "df.loc[df['역명'] == '고속터미널']"
      ]
    },
    {
      "cell_type": "code",
      "execution_count": null,
      "id": "21e954e5",
      "metadata": {
        "id": "21e954e5"
      },
      "outputs": [],
      "source": [
        "df_merged.loc[df_merged['역명'] == '고속터미널']"
      ]
    },
    {
      "cell_type": "markdown",
      "id": "f6486aa2",
      "metadata": {
        "id": "f6486aa2"
      },
      "source": [
        "## `seoul_station_geocode.csv` 파일 로드"
      ]
    },
    {
      "cell_type": "code",
      "execution_count": null,
      "id": "5ff1cb68",
      "metadata": {
        "id": "5ff1cb68"
      },
      "outputs": [],
      "source": [
        "# 코드입력\n",
        "# address = pd.read_csv('seoul_station_geocode.csv')\n",
        "# csv 파일이 없는 경우\n",
        "address = pd.read_csv('https://raw.githubusercontent.com/teddylee777/dip/main/assets/seoul_station_geocode.csv')\n",
        "address.head()"
      ]
    },
    {
      "cell_type": "code",
      "execution_count": null,
      "id": "01fccdd5",
      "metadata": {
        "id": "01fccdd5"
      },
      "outputs": [],
      "source": [
        "# 코드입력\n",
        "merged_data = pd.merge(df_merged, address[['주소', '역명', 'lat', 'lng']], on='역명', how='left')\n",
        "merged_data.head()"
      ]
    },
    {
      "cell_type": "code",
      "execution_count": null,
      "id": "c06d9e09",
      "metadata": {
        "id": "c06d9e09"
      },
      "outputs": [],
      "source": [
        "df_merged.shape, merged_data.shape"
      ]
    },
    {
      "cell_type": "markdown",
      "id": "cd32b042",
      "metadata": {
        "id": "cd32b042"
      },
      "source": [
        "병합된 데이터셋에 대한 결측치 확인"
      ]
    },
    {
      "cell_type": "code",
      "execution_count": null,
      "id": "4665b613",
      "metadata": {
        "id": "4665b613"
      },
      "outputs": [],
      "source": [
        "merged_data.isnull().sum()"
      ]
    },
    {
      "cell_type": "markdown",
      "id": "72425083",
      "metadata": {
        "id": "72425083"
      },
      "source": [
        "## 주소 데이터 분할"
      ]
    },
    {
      "cell_type": "code",
      "execution_count": null,
      "id": "56c71d31",
      "metadata": {
        "id": "56c71d31"
      },
      "outputs": [],
      "source": [
        "# 코드입력\n",
        "merged_data['주소'].str.split()"
      ]
    },
    {
      "cell_type": "markdown",
      "id": "be9a4f35",
      "metadata": {
        "id": "be9a4f35"
      },
      "source": [
        "**구**만 추출하기"
      ]
    },
    {
      "cell_type": "code",
      "execution_count": null,
      "id": "5e652b74",
      "metadata": {
        "id": "5e652b74"
      },
      "outputs": [],
      "source": [
        "# 코드입력\n",
        "merged_data['주소'].str.split().str[1]"
      ]
    },
    {
      "cell_type": "code",
      "execution_count": null,
      "id": "67cf5988",
      "metadata": {
        "id": "67cf5988"
      },
      "outputs": [],
      "source": [
        "# 코드입력\n",
        "merged_data['구'] = merged_data['주소'].str.split().str[1]\n",
        "merged_data['구']"
      ]
    },
    {
      "cell_type": "code",
      "execution_count": null,
      "id": "f0c1cbea",
      "metadata": {
        "id": "f0c1cbea"
      },
      "outputs": [],
      "source": [
        "merged_data.head()"
      ]
    },
    {
      "cell_type": "markdown",
      "id": "549ff432",
      "metadata": {
        "id": "549ff432"
      },
      "source": [
        "## folium을 활용한 지도 시각화"
      ]
    },
    {
      "cell_type": "code",
      "execution_count": null,
      "id": "a7c442dc",
      "metadata": {
        "id": "a7c442dc"
      },
      "outputs": [],
      "source": [
        "import folium\n",
        "\n",
        "# 위도\n",
        "latitude = 37.394946\n",
        "# 경도\n",
        "longitude = 127.111104\n",
        "\n",
        "m = folium.Map(location=[latitude, longitude],\n",
        "               zoom_start=17, \n",
        "               width=750, \n",
        "               height=500\n",
        "              )\n",
        "m"
      ]
    },
    {
      "cell_type": "code",
      "execution_count": null,
      "id": "79d2af44",
      "metadata": {
        "id": "79d2af44"
      },
      "outputs": [],
      "source": [
        "station_name = '시청'\n",
        "geo = list(merged_data.loc[merged_data['역명'] == station_name, ['lat', 'lng']].iloc[0])\n",
        "print(f'위도: {geo[0]}, 경도: {geo[1]}')\n",
        "\n",
        "# folium 시각화\n",
        "m = folium.Map(location=geo,\n",
        "               zoom_start=17, \n",
        "               width=750, \n",
        "               height=500\n",
        "              )\n",
        "\n",
        "folium.Marker(geo,\n",
        "              popup=station_name,\n",
        "              tooltip=f'{station_name} 정보').add_to(m)\n",
        "m"
      ]
    },
    {
      "cell_type": "markdown",
      "id": "84257d44",
      "metadata": {
        "id": "84257d44"
      },
      "source": [
        "타일을 `cartodbpositron`으로 변경합니다."
      ]
    },
    {
      "cell_type": "code",
      "execution_count": null,
      "id": "19fd622c",
      "metadata": {
        "id": "19fd622c"
      },
      "outputs": [],
      "source": [
        "m = folium.Map(\n",
        "    location=[37.559819, 126.963895],\n",
        "    zoom_start=11, \n",
        "    tiles='cartodbpositron'\n",
        ")\n",
        "m"
      ]
    },
    {
      "cell_type": "markdown",
      "id": "43d32911",
      "metadata": {
        "id": "43d32911"
      },
      "source": [
        "## 서울 행정구역 표기 및 시각화에 boundary 적용"
      ]
    },
    {
      "cell_type": "code",
      "execution_count": null,
      "id": "300fbf59",
      "metadata": {
        "id": "300fbf59"
      },
      "outputs": [],
      "source": [
        "# 서울 행정구역 json raw파일(githubcontent)\n",
        "r = requests.get('https://raw.githubusercontent.com/southkorea/seoul-maps/master/kostat/2013/json/seoul_municipalities_geo_simple.json')\n",
        "c = r.content\n",
        "seoul_geo = json.loads(c)\n",
        "seoul_geo"
      ]
    },
    {
      "cell_type": "markdown",
      "id": "684939c4",
      "metadata": {
        "id": "684939c4"
      },
      "source": [
        "자치구별 1월의 승하차인원 합계량을 산출합니다."
      ]
    },
    {
      "cell_type": "code",
      "execution_count": null,
      "id": "7039fa96",
      "metadata": {
        "id": "7039fa96"
      },
      "outputs": [],
      "source": [
        "# 코드입력\n",
        "merged_data.groupby('구')['1월'].sum()"
      ]
    },
    {
      "cell_type": "code",
      "execution_count": null,
      "id": "4c29472e",
      "metadata": {
        "id": "4c29472e"
      },
      "outputs": [],
      "source": [
        "# 월 설정\n",
        "N = 2\n",
        "\n",
        "plt.figure(figsize=(12, 15))\n",
        "merged_data.groupby('구')[f'{N}월'].sum().sort_values().plot(kind='barh')\n",
        "plt.title(f'{N}월 구별 승하차 인원')\n",
        "plt.show()"
      ]
    },
    {
      "cell_type": "code",
      "execution_count": null,
      "id": "1af99278",
      "metadata": {
        "id": "1af99278"
      },
      "outputs": [],
      "source": [
        "m = folium.Map(\n",
        "    location=[37.559819, 126.963895],\n",
        "    zoom_start=10, \n",
        "    tiles='cartodbpositron'\n",
        ")\n",
        "\n",
        "folium.GeoJson(\n",
        "    seoul_geo,\n",
        "    name='지역구'\n",
        ").add_to(m)\n",
        "\n",
        "m.choropleth(geo_data=seoul_geo,\n",
        "             data=merged_data.groupby('구')[f'{N}월'].sum(),\n",
        "             fill_color='YlOrRd', # 색상 변경도 가능하다\n",
        "             fill_opacity=0.9,\n",
        "             line_opacity=0.2,\n",
        "             key_on='properties.name',\n",
        "             legend_name=f'{N}월 승하차 인원', \n",
        "            )\n",
        "m"
      ]
    },
    {
      "cell_type": "markdown",
      "id": "d56e63ed",
      "metadata": {
        "id": "d56e63ed"
      },
      "source": [
        "## 통계 분석"
      ]
    },
    {
      "cell_type": "code",
      "execution_count": null,
      "id": "e7ef3b83",
      "metadata": {
        "id": "e7ef3b83"
      },
      "outputs": [],
      "source": [
        "stats = merged_data.drop(['주소', '역번호', 'lat', 'lng'], axis=1)\n",
        "stats"
      ]
    },
    {
      "cell_type": "code",
      "execution_count": null,
      "id": "2551c2c1",
      "metadata": {
        "id": "2551c2c1"
      },
      "outputs": [],
      "source": [
        "stats.loc[stats['역명'] == '강남']"
      ]
    },
    {
      "cell_type": "code",
      "execution_count": null,
      "id": "06c252ed",
      "metadata": {
        "id": "06c252ed"
      },
      "outputs": [],
      "source": [
        "stats.loc[stats['역명'] == '강남'].iloc[:, 1:-1]"
      ]
    },
    {
      "cell_type": "markdown",
      "id": "5c6edbfe",
      "metadata": {
        "id": "5c6edbfe"
      },
      "source": [
        "[seaborn pointplot](https://seaborn.pydata.org/generated/seaborn.pointplot.html)"
      ]
    },
    {
      "cell_type": "code",
      "execution_count": null,
      "id": "0820f60f",
      "metadata": {
        "id": "0820f60f"
      },
      "outputs": [],
      "source": [
        "place = '강남'\n",
        "plt.figure(figsize=(10, 6))\n",
        "sns.pointplot(x = np.arange(1, 13), y=np.squeeze(stats.loc[stats['역명'] == place].iloc[:, 1:-1].values))\n",
        "plt.show()"
      ]
    },
    {
      "cell_type": "code",
      "execution_count": null,
      "id": "3f3207e7",
      "metadata": {
        "id": "3f3207e7"
      },
      "outputs": [],
      "source": [
        "place1 = '강남'\n",
        "place2 = '고속터미널'\n",
        "plt.figure(figsize=(10, 6))\n",
        "sns.pointplot(x = np.arange(1, 13), y=np.squeeze(stats.loc[stats['역명'] == place1].iloc[:, 1:-1].values), color='black')\n",
        "sns.pointplot(x = np.arange(1, 13), y=np.squeeze(stats.loc[stats['역명'] == place2].iloc[:, 1:-1].values), color='tomato')\n",
        "plt.show()"
      ]
    },
    {
      "cell_type": "code",
      "execution_count": null,
      "id": "facbb89e",
      "metadata": {
        "id": "facbb89e"
      },
      "outputs": [],
      "source": [
        "plt.figure(figsize=(10, 6))\n",
        "sns.pointplot(x ='역명', y='1월', data=stats.loc[stats['구'] == '강남구'].iloc[:, :-1], color='black')\n",
        "sns.pointplot(x ='역명', y='4월', data=stats.loc[stats['구'] == '강남구'].iloc[:, :-1], color='blue')\n",
        "sns.pointplot(x ='역명', y='7월', data=stats.loc[stats['구'] == '강남구'].iloc[:, :-1], color='tomato')\n",
        "sns.pointplot(x ='역명', y='11월', data=stats.loc[stats['구'] == '강남구'].iloc[:, :-1], color='cyan')\n",
        "plt.show()"
      ]
    },
    {
      "cell_type": "code",
      "execution_count": null,
      "id": "efc4518b",
      "metadata": {
        "id": "efc4518b"
      },
      "outputs": [],
      "source": [
        "stats.loc[stats['구'] == '강남구'].iloc[:, :-1]"
      ]
    },
    {
      "cell_type": "markdown",
      "id": "7ac84479",
      "metadata": {
        "id": "7ac84479"
      },
      "source": [
        "강남구에 위치한 지하철역의 승하차인원을 heatmap으로 시각화합니다."
      ]
    },
    {
      "cell_type": "code",
      "execution_count": null,
      "id": "022fd646",
      "metadata": {
        "id": "022fd646"
      },
      "outputs": [],
      "source": [
        "plt.figure(figsize=(12, 12))\n",
        "cmap = sns.cubehelix_palette(light=1, as_cmap=True)\n",
        "sns.heatmap(stats.loc[stats['구'] == '강남구'].iloc[:, 1:-1]/1000, annot=True, fmt='.1f', cmap=cmap, cbar_kws={\"shrink\": .7})\n",
        "plt.yticks(np.arange(len(stats.loc[stats['구'] == '강남구'].iloc[:, 0].values)), stats.loc[stats['구'] == '강남구'].iloc[:, 0].values)\n",
        "plt.yticks(rotation=45)\n",
        "plt.show()"
      ]
    },
    {
      "cell_type": "markdown",
      "id": "938ae8d7",
      "metadata": {
        "id": "938ae8d7"
      },
      "source": [
        "강남구에 위치한 역의 승하차 인원의 평균을 산출하여 `avg` 임시 변수에 대입합니다."
      ]
    },
    {
      "cell_type": "code",
      "execution_count": null,
      "id": "18f8fe8b",
      "metadata": {
        "id": "18f8fe8b"
      },
      "outputs": [],
      "source": [
        "avg = stats.loc[stats['구'] == '강남구'].iloc[:, 1:-1].mean()\n",
        "avg"
      ]
    },
    {
      "cell_type": "code",
      "execution_count": null,
      "id": "fd39ec85",
      "metadata": {
        "id": "fd39ec85"
      },
      "outputs": [],
      "source": [
        "place1 = '강남'\n",
        "plt.figure(figsize=(10, 6))\n",
        "sns.pointplot(x = np.arange(1, 13), y=np.squeeze(stats.loc[stats['역명'] == place1].iloc[:, 1:-1].values), color='black')\n",
        "sns.pointplot(x = np.arange(1, 13), y=np.squeeze(avg.values), color='tomato')\n",
        "plt.show()"
      ]
    },
    {
      "cell_type": "code",
      "execution_count": null,
      "id": "845f76b0",
      "metadata": {
        "id": "845f76b0"
      },
      "outputs": [],
      "source": [
        "gangnam = stats.loc[stats['역명'] == place1].iloc[:, 1:-1].values\n",
        "gangnam"
      ]
    },
    {
      "cell_type": "markdown",
      "id": "6710d57b",
      "metadata": {
        "id": "6710d57b"
      },
      "source": [
        "강남역의 승하차 인원에 대한 정규화를 수행합니다."
      ]
    },
    {
      "cell_type": "code",
      "execution_count": null,
      "id": "305615b8",
      "metadata": {
        "id": "305615b8"
      },
      "outputs": [],
      "source": [
        "gangnam_norm = (gangnam - gangnam.min()) / (gangnam.max() - gangnam.min())\n",
        "gangnam_norm"
      ]
    },
    {
      "cell_type": "code",
      "execution_count": null,
      "id": "9ee55489",
      "metadata": {
        "id": "9ee55489"
      },
      "outputs": [],
      "source": [
        "avg = avg.values\n",
        "avg"
      ]
    },
    {
      "cell_type": "markdown",
      "id": "ea9f3341",
      "metadata": {
        "id": "ea9f3341"
      },
      "source": [
        "강남구 평균 승하차 인원에 대한 정규화를 수행합니다."
      ]
    },
    {
      "cell_type": "code",
      "execution_count": null,
      "id": "c3f6fcea",
      "metadata": {
        "id": "c3f6fcea"
      },
      "outputs": [],
      "source": [
        "avg_norm = (avg - avg.min()) / (avg.max() - avg.min())\n",
        "avg_norm"
      ]
    },
    {
      "cell_type": "code",
      "execution_count": null,
      "id": "ba1fbc5c",
      "metadata": {
        "id": "ba1fbc5c"
      },
      "outputs": [],
      "source": [
        "place1 = '강남'\n",
        "plt.figure(figsize=(10, 6))\n",
        "sns.pointplot(x = np.arange(1, 13), y=np.squeeze(gangnam_norm), color='black')\n",
        "sns.pointplot(x = np.arange(1, 13), y=np.squeeze(avg_norm), color='tomato')\n",
        "plt.show()"
      ]
    }
  ],
  "metadata": {
    "kernelspec": {
      "display_name": "Python 3",
      "language": "python",
      "name": "python3"
    },
    "language_info": {
      "codemirror_mode": {
        "name": "ipython",
        "version": 3
      },
      "file_extension": ".py",
      "mimetype": "text/x-python",
      "name": "python",
      "nbconvert_exporter": "python",
      "pygments_lexer": "ipython3",
      "version": "3.7.10"
    },
    "colab": {
      "provenance": [],
      "include_colab_link": true
    }
  },
  "nbformat": 4,
  "nbformat_minor": 5
}