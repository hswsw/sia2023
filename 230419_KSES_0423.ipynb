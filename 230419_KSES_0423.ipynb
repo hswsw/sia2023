{
  "nbformat": 4,
  "nbformat_minor": 0,
  "metadata": {
    "colab": {
      "provenance": [],
      "toc_visible": true
    },
    "kernelspec": {
      "name": "python3",
      "display_name": "Python 3"
    },
    "language_info": {
      "name": "python"
    }
  },
  "cells": [
    {
      "cell_type": "markdown",
      "source": [
        "# 라이브러리 설치"
      ],
      "metadata": {
        "id": "QlBjH_9NK3m_"
      }
    },
    {
      "cell_type": "code",
      "source": [
        "# OpenAI\n",
        "!pip install openai\n",
        "\n",
        "# Google Translation\n",
        "!pip install googletrans==4.0.0-rc1\n",
        "\n",
        "# Word Cloud\n",
        "!pip install wordcloud"
      ],
      "metadata": {
        "id": "cC93ieFvrLzz"
      },
      "execution_count": null,
      "outputs": []
    },
    {
      "cell_type": "markdown",
      "source": [
        "# 단위 기능 구현"
      ],
      "metadata": {
        "id": "NTW6OQlkKxSL"
      }
    },
    {
      "cell_type": "markdown",
      "source": [
        "## 1. 논문 검색 (semantic scholar)\n",
        "> https://www.semanticscholar.org/product/api  \n",
        "> https://api.semanticscholar.org/api-docs/graph#tag/Paper-Data/operation/get_graph_get_paper_search"
      ],
      "metadata": {
        "id": "hucQw-HFmGgj"
      }
    },
    {
      "cell_type": "code",
      "source": [
        "# example: perovskite solar cell\n",
        "\n",
        "import requests\n",
        "\n",
        "query = \"https://api.semanticscholar.org/graph/v1/paper/search?query=photovoltaic+machine+learning&limit=30\"\n",
        "s = requests.get(query)"
      ],
      "metadata": {
        "id": "K-xA8se4nYmn"
      },
      "execution_count": null,
      "outputs": []
    },
    {
      "cell_type": "code",
      "source": [
        "# 첫번째 논문\n",
        "s.json()[\"data\"][0]"
      ],
      "metadata": {
        "id": "QFa9tiwHoCSx"
      },
      "execution_count": null,
      "outputs": []
    },
    {
      "cell_type": "code",
      "source": [
        "# 논문 10개 차례대로\n",
        "for i in range(10):\n",
        "    title = s.json()[\"data\"][i][\"title\"]\n",
        "    print(f\"#{i+1}: {title}\")"
      ],
      "metadata": {
        "id": "l9JBAbtJoQ3P"
      },
      "execution_count": null,
      "outputs": []
    },
    {
      "cell_type": "markdown",
      "source": [
        "## 2. 초록 받기 (semantic scholar)"
      ],
      "metadata": {
        "id": "-ZlZwLnLoiMN"
      }
    },
    {
      "cell_type": "code",
      "source": [
        "query = \"https://api.semanticscholar.org/graph/v1/paper/search?query=photovoltaic+machine+learning\"\n",
        "fields = \"title,journal,abstract,authors\"\n",
        "\n",
        "query = f\"{query}&fields={fields}\"\n",
        "query"
      ],
      "metadata": {
        "id": "M9uggeqApSN9"
      },
      "execution_count": null,
      "outputs": []
    },
    {
      "cell_type": "code",
      "source": [
        "s = requests.get(query)"
      ],
      "metadata": {
        "id": "lyxi1KhExrkY"
      },
      "execution_count": null,
      "outputs": []
    },
    {
      "cell_type": "code",
      "source": [
        "# 두번째 논문\n",
        "s.json()[\"data\"][1]"
      ],
      "metadata": {
        "id": "Dbjha5Qoo7aS"
      },
      "execution_count": null,
      "outputs": []
    },
    {
      "cell_type": "code",
      "source": [
        "# 두번째 초록\n",
        "abstract = s.json()[\"data\"][2][\"abstract\"]\n",
        "abstract"
      ],
      "metadata": {
        "id": "7OFEDbjRppT0"
      },
      "execution_count": null,
      "outputs": []
    },
    {
      "cell_type": "code",
      "source": [
        "for i in range(10):\n",
        "    title = s.json()[\"data\"][i][\"title\"]\n",
        "    abstract = s.json()[\"data\"][i][\"abstract\"]\n",
        "    print(f\"#{i+1}: {title}:: {abstract}\")"
      ],
      "metadata": {
        "id": "Fe-eypqJKIW5"
      },
      "execution_count": null,
      "outputs": []
    },
    {
      "cell_type": "markdown",
      "source": [
        "## 3. 초록 요약 (ChatGPT)"
      ],
      "metadata": {
        "id": "6pCRWOEqp0FB"
      }
    },
    {
      "cell_type": "code",
      "source": [
        "import openai\n",
        "openai.api_key = xxxxx    # xxxxx 대신 본인 OpenAI API Key 입력\n",
        "\n",
        "response = openai.ChatCompletion.create(\n",
        "  model=\"gpt-3.5-turbo\",\n",
        "  messages=[\n",
        "    {\"role\": \"user\", \n",
        "     \"content\": f\"summarize the following sentences in 20 words\\n\\n{abstract}\"}\n",
        "  ]\n",
        ")"
      ],
      "metadata": {
        "id": "EvbGTRFBzqY4"
      },
      "execution_count": null,
      "outputs": []
    },
    {
      "cell_type": "code",
      "source": [
        "summary = response[\"choices\"][0][\"message\"][\"content\"]\n",
        "summary"
      ],
      "metadata": {
        "id": "lNO_-7Q0ztQh"
      },
      "execution_count": null,
      "outputs": []
    },
    {
      "cell_type": "code",
      "source": [
        "len(summary.split(\" \"))"
      ],
      "metadata": {
        "id": "A-PIBsjpz2LA"
      },
      "execution_count": null,
      "outputs": []
    },
    {
      "cell_type": "markdown",
      "source": [
        "## 4. 한글 번역 (Google Translator)"
      ],
      "metadata": {
        "id": "3oGXLJAgq0tF"
      }
    },
    {
      "cell_type": "code",
      "source": [
        "from googletrans import Translator\n",
        "\n",
        "def get_translate(prompt):\n",
        "    google = Translator() # 구글 번역기 사용\n",
        "    response = google.translate(prompt, dest=\"ko\")  # 한국어로 번역\n",
        "    prompt_kr = response.text\n",
        "    return prompt_kr"
      ],
      "metadata": {
        "id": "O1Rkz0lCrCSC"
      },
      "execution_count": null,
      "outputs": []
    },
    {
      "cell_type": "code",
      "execution_count": null,
      "metadata": {
        "id": "95_AqBAjlcQj"
      },
      "outputs": [],
      "source": [
        "summary_kr = get_translate(summary)\n",
        "summary_kr"
      ]
    },
    {
      "cell_type": "markdown",
      "source": [
        "## 5. 일괄 초록 요약 번역 (python: for)"
      ],
      "metadata": {
        "id": "5lAKqRiU3l1l"
      }
    },
    {
      "cell_type": "code",
      "source": [
        "# 검색 함수\n",
        "keywords = [\"photovoltaic\", \"machine learning\", \"forecasting\"]\n",
        "\n",
        "def search(keywords, limit=30, fields=[\"title\", \"journal\", \"abstract\", \"authors\"]):\n",
        "    keywords_join = \"+\".join(keywords)\n",
        "    fields_join = \",\".join(fields)\n",
        "    query = f\"https://api.semanticscholar.org/graph/v1/paper/search?query={keywords_join}&limit={limit}&fields={fields_join}\"\n",
        "    s = requests.get(query)\n",
        "    \n",
        "    return s.json()\n",
        "\n",
        "s_json = search(keywords)"
      ],
      "metadata": {
        "id": "5XBbpaNK3pYs"
      },
      "execution_count": null,
      "outputs": []
    },
    {
      "cell_type": "code",
      "source": [
        "# 논문 제목 추출 함수\n",
        "def get_title(s_json, num=0):\n",
        "    return s_json[\"data\"][num][\"title\"]"
      ],
      "metadata": {
        "id": "6cJjrpD3FYEB"
      },
      "execution_count": null,
      "outputs": []
    },
    {
      "cell_type": "code",
      "source": [
        "# 초록 추출 함수\n",
        "def get_abstract(s_json, num=0):\n",
        "    return s_json[\"data\"][num][\"abstract\"]"
      ],
      "metadata": {
        "id": "Dt6bUfgP_-Y4"
      },
      "execution_count": null,
      "outputs": []
    },
    {
      "cell_type": "code",
      "source": [
        "# 요약 함수\n",
        "\n",
        "import openai\n",
        "\n",
        "def get_summary(abstract, words=15):\n",
        "    if abstract:\n",
        "        response = openai.ChatCompletion.create(\n",
        "        model=\"gpt-3.5-turbo\",\n",
        "        messages=[\n",
        "            {\"role\": \"user\", \n",
        "            \"content\": f\"summarize the following sentences in {words} words\\n\\n{abstract}\"}\n",
        "        ]\n",
        "        )\n",
        "        summary = response[\"choices\"][0][\"message\"][\"content\"]\n",
        "        return summary\n",
        "    else:\n",
        "        return \"\""
      ],
      "metadata": {
        "id": "PZwa8oc1AWR1"
      },
      "execution_count": null,
      "outputs": []
    },
    {
      "cell_type": "code",
      "source": [
        "summary = get_summary(abstract)\n",
        "summary"
      ],
      "metadata": {
        "id": "GoWSHdAoNFKI"
      },
      "execution_count": null,
      "outputs": []
    },
    {
      "cell_type": "code",
      "source": [
        "# 번역 함수\n",
        "\n",
        "from googletrans import Translator\n",
        "\n",
        "def get_translate(prompt):\n",
        "    if prompt:\n",
        "        google = Translator() # 구글 번역기 사용\n",
        "        response = google.translate(prompt, dest=\"ko\")  # 한국어로 번역\n",
        "        prompt_kr = response.text\n",
        "        return prompt_kr\n",
        "    else:\n",
        "        return \"\""
      ],
      "metadata": {
        "id": "0w4cHHxsEWTE"
      },
      "execution_count": null,
      "outputs": []
    },
    {
      "cell_type": "code",
      "source": [
        "summary_kr = get_translate(summary)\n",
        "summary_kr"
      ],
      "metadata": {
        "id": "S6ukMEAtNKwi"
      },
      "execution_count": null,
      "outputs": []
    },
    {
      "cell_type": "code",
      "source": [
        "for i in range(10):\n",
        "    title = get_title(s_json, i)\n",
        "    abstract = get_abstract(s_json, i)\n",
        "    summary = get_summary(abstract, words=30)\n",
        "    summary_kr = get_translate(summary)\n",
        "    print(f'#{i+1}: \"{title}\",\\t{summary_kr}')"
      ],
      "metadata": {
        "id": "2xTziqZhAvJS"
      },
      "execution_count": null,
      "outputs": []
    },
    {
      "cell_type": "markdown",
      "source": [
        "## 6. 명사 추출, 기본형 변환 (ChatGPT)"
      ],
      "metadata": {
        "id": "HTERKcv0T1ch"
      }
    },
    {
      "cell_type": "code",
      "source": [
        "def get_keywords(abstract):\n",
        "    if abstract:\n",
        "        response = openai.ChatCompletion.create(\n",
        "        model=\"gpt-3.5-turbo\",\n",
        "        messages=[\n",
        "            {\"role\": \"user\", \n",
        "            \"content\": f\"extract nouns, lemmatize and convert plural to singular form (for example, 'solar cells' to 'solar cell') from following text, separated by comma, and remove all other texts or bullets\\n\\n{abstract}\"}\n",
        "        ]\n",
        "        )\n",
        "\n",
        "        keyword = response[\"choices\"][0][\"message\"][\"content\"]\n",
        "        return keyword\n",
        "    else:\n",
        "        return []\n",
        "\n",
        "\n",
        "keyword = get_keywords(abstract)\n",
        "keyword"
      ],
      "metadata": {
        "id": "Cwb398hQI7CF"
      },
      "execution_count": null,
      "outputs": []
    },
    {
      "cell_type": "code",
      "source": [
        "keyword_list = [n.lstrip(\"-\").lstrip(\" \").rstrip(\" \").rstrip(\".\")  for n in keyword.split(\",\")]\n",
        "keyword_list"
      ],
      "metadata": {
        "id": "B2IitaGbJH-5"
      },
      "execution_count": null,
      "outputs": []
    },
    {
      "cell_type": "code",
      "source": [
        "# list 변환 포함 함수 재정의\n",
        "\n",
        "def get_keywords(abstract):\n",
        "    if abstract:\n",
        "        response = openai.ChatCompletion.create(\n",
        "        model=\"gpt-3.5-turbo\",\n",
        "        messages=[\n",
        "            {\"role\": \"user\", \n",
        "            \"content\": f\"extract nouns, lemmatize and convert plural to singular form (for example, 'solar cells' to 'solar cell') from following text, separated by comma, and remove all other texts or bullets\\n\\n{abstract}\"}\n",
        "        ]\n",
        "        )\n",
        "\n",
        "        keyword = response[\"choices\"][0][\"message\"][\"content\"]\n",
        "        return [n.lstrip(\"-\").lstrip(\" \").rstrip(\" \").rstrip(\".\")  for n in keyword.split(\",\")]\n",
        "    else:\n",
        "        return []\n",
        "\n",
        "\n",
        "keyword = get_keywords(abstract)\n",
        "keyword"
      ],
      "metadata": {
        "id": "mbUpCMbNTgPc"
      },
      "execution_count": null,
      "outputs": []
    },
    {
      "cell_type": "markdown",
      "source": [
        "## 7. 데이터 취합, 엑셀 파일 저장 (pandas)"
      ],
      "metadata": {
        "id": "ddNejJJLLSjz"
      }
    },
    {
      "cell_type": "code",
      "source": [
        "import pandas as pd\n",
        "\n",
        "# simple example\n",
        "\n",
        "# 데이터 준비\n",
        "A = [\"apple\", \"banana\", \"cherry\"]\n",
        "B = [3000, 2500, 5000]\n",
        "C = [\"대한민국\", \"필리핀\", \"터키\"]\n",
        "\n",
        "# DataFrame 작성\n",
        "df_ex = pd.DataFrame()\n",
        "df_ex[\"과일\"] = A\n",
        "df_ex[\"가격\"] = B\n",
        "df_ex[\"원산지\"] = C\n",
        "\n",
        "# 엑셀 저장\n",
        "df_ex.to_excel(\"df_ex.xlsx\")\n",
        "\n",
        "# 화면 출력\n",
        "df_ex"
      ],
      "metadata": {
        "id": "7558wGJOLggu"
      },
      "execution_count": null,
      "outputs": []
    },
    {
      "cell_type": "code",
      "source": [
        "# 엑셀 파일로 저장\n",
        "\n",
        "# 검색 결과에서 title, journal name, volume, pages, abstract를 가져오고 요약, 번역을 각기 list로 저장\n",
        "titles = []\n",
        "journal_names = []\n",
        "journal_volumes = []\n",
        "journal_pages = []\n",
        "abstracts = []\n",
        "summarys = []\n",
        "summarys_kr = []\n",
        "keywords = []\n",
        "\n",
        "### 서지 정보 수집 \n",
        "# 논문 제목 추출 함수\n",
        "def get_journal_name(s_json, num=0):\n",
        "    return s_json[\"data\"][num][\"journal\"].get(\"name\")\n",
        "\n",
        "# 논문 volume 추출 함수\n",
        "def get_journal_volume(s_json, num=0):\n",
        "    return s_json[\"data\"][num][\"journal\"].get(\"volume\")\n",
        "\n",
        "# 논문 pages 추출 함수\n",
        "def get_journal_page(s_json, num=0):\n",
        "    return s_json[\"data\"][num][\"journal\"].get(\"pages\")\n",
        "\n",
        "\n",
        "### 수집된 논문 데이터를 엑셀로 저장\n",
        "for i in range(10):\n",
        "    # 데이터 추출, list 삽입\n",
        "    title = get_title(s_json, i)\n",
        "    titles.append(title)\n",
        "\n",
        "    journal_name = get_journal_name(s_json, i)\n",
        "    journal_names.append(journal_name) \n",
        "\n",
        "    journal_volume = get_journal_volume(s_json, i)\n",
        "    journal_volumes.append(journal_volume)\n",
        "\n",
        "    journal_page = get_journal_page(s_json, i)\n",
        "    journal_pages.append(journal_page)\n",
        "\n",
        "    abstract = get_abstract(s_json, i)\n",
        "    abstracts.append(abstract)\n",
        "\n",
        "    summary = get_summary(abstract, words=30)\n",
        "    summarys.append(summary)\n",
        "\n",
        "    summary_kr = get_translate(summary)\n",
        "    summarys_kr.append(summary_kr)\n",
        "\n",
        "    keyword = get_keywords(abstract)\n",
        "    keywords.append(keyword)\n",
        "\n",
        "# DataFrame 생성, 저장\n",
        "df_papers = pd.DataFrame()\n",
        "df_papers[\"titles\"] = titles\n",
        "df_papers[\"journal_names\"] = journal_names\n",
        "df_papers[\"journal_volumes\"] = journal_volumes\n",
        "df_papers[\"journal_pages\"] = journal_pages\n",
        "df_papers[\"abstracts\"] = abstracts\n",
        "df_papers[\"summarys\"] = summarys\n",
        "df_papers[\"summarys_ko\"] = summarys_kr\n",
        "df_papers[\"keywords\"] = keywords\n",
        "df_papers.to_excel(\"df_papers.xlsx\")"
      ],
      "metadata": {
        "id": "m0GZ7jHpHF52"
      },
      "execution_count": null,
      "outputs": []
    },
    {
      "cell_type": "code",
      "source": [
        "df_papers"
      ],
      "metadata": {
        "id": "hvSH1cyMTB3m"
      },
      "execution_count": null,
      "outputs": []
    },
    {
      "cell_type": "markdown",
      "source": [
        "## 8. 워드 클라우드 작성 (WordCloud)\n",
        "\n",
        "> colormap: https://matplotlib.org/stable/gallery/color/colormap_reference.html"
      ],
      "metadata": {
        "id": "uLQXHcG0YKCH"
      }
    },
    {
      "cell_type": "code",
      "source": [
        "# 키워드 전체 통합\n",
        "\n",
        "import itertools\n",
        "\n",
        "keywords_all = list(itertools.chain(*keywords))\n",
        "print(len(keywords_all))\n",
        "keywords_all"
      ],
      "metadata": {
        "id": "DR9auAb6RV_r"
      },
      "execution_count": null,
      "outputs": []
    },
    {
      "cell_type": "code",
      "source": [
        "import matplotlib.pyplot as plt\n",
        "from wordcloud import WordCloud\n",
        "\n",
        "# 문자열로 변환합니다.\n",
        "text = ' '.join(keywords_all)\n",
        "\n",
        "# 워드 클라우드를 생성합니다.\n",
        "wordcloud = WordCloud(width=800, height=800, \n",
        "                                       colormap=\"Set1\", \n",
        "                                       background_color='white').generate(text)\n",
        "\n",
        "# 워드 클라우드 이미지를 출력합니다.\n",
        "fig, ax = plt.subplots(figsize=(8, 8))\n",
        "ax.imshow(wordcloud, interpolation='bilinear')\n",
        "ax.axis('off')\n",
        "fig.savefig(\"wordcloud.png\")"
      ],
      "metadata": {
        "id": "TUaVA0wOW11o"
      },
      "execution_count": null,
      "outputs": []
    },
    {
      "cell_type": "markdown",
      "source": [
        "# 키워드와 논문 수 입력, 엑셀파일 생성, WordCloud를 생성 자동화"
      ],
      "metadata": {
        "id": "Euli33RS9Z-_"
      }
    },
    {
      "cell_type": "code",
      "source": [
        "def get_paperdata(keywords, limit=10, fields=[\"title\", \"journal\", \"abstract\", \"authors\"], words=30, wc_width=1600, wc_height=900, wc_colormap=\"Set3\"):\n",
        "\n",
        "    # 1. 논문 검색\n",
        "    print(\"# 1. Searching Paper....\")\n",
        "    s_json = search(keywords, limit=limit, fields=fields)\n",
        "    print(f\"#     {len(s_json['data'])} papers data retrieved.\")\n",
        "\n",
        "    # 2. 논문들의 데이터를 추출하고 DataFrame으로 저장\n",
        "    # 검색 결과에서 title, journal name, volume, pages, abstract를 가져오고 요약, 번역을 각기 list로 저장\n",
        "    titles = []\n",
        "    journal_names = []\n",
        "    journal_volumes = []\n",
        "    journal_pages = []\n",
        "    abstracts = []\n",
        "    summarys = []\n",
        "    summarys_kr = []\n",
        "    keywords = []\n",
        "\n",
        "    # 서지 정보 수집 \n",
        "    print(\"# 2. Rearranging papers data...\")\n",
        "    for i in range(len(s_json[\"data\"])):\n",
        "        print(s_json[\"data\"][i])\n",
        "        # 데이터 추출, list 삽입\n",
        "        title = get_title(s_json, i)\n",
        "        titles.append(title)\n",
        "\n",
        "        try:\n",
        "            journal_name = get_journal_name(s_json, i)\n",
        "        except:\n",
        "            journal_name = None\n",
        "        journal_names.append(journal_name) \n",
        "\n",
        "        try:\n",
        "            journal_volume = get_journal_volume(s_json, i)\n",
        "        except:\n",
        "            journal_volume = None\n",
        "        journal_volumes.append(journal_volume)\n",
        "\n",
        "        try:\n",
        "            journal_page = get_journal_page(s_json, i)\n",
        "        except:\n",
        "            journal_page = None\n",
        "        journal_pages.append(journal_page)\n",
        "\n",
        "        abstract = get_abstract(s_json, i)\n",
        "        abstracts.append(abstract)\n",
        "\n",
        "        summary = get_summary(abstract, words=words)\n",
        "        summarys.append(summary)\n",
        "\n",
        "        summary_kr = get_translate(summary)\n",
        "        summarys_kr.append(summary_kr)\n",
        "\n",
        "        keyword = get_keywords(abstract)\n",
        "        keywords.append(keyword)\n",
        "\n",
        "    # DataFrame 생성, 저장\n",
        "    print(\"# 3. Creating Excel file...\")\n",
        "    df_papers = pd.DataFrame({\"titles\":titles, \"journal_names\":journal_names, \"journal_volumes\":journal_volumes, \"journal_pages\":journal_pages, \n",
        "                              \"abstracts\":abstracts, \"summarys\":summarys, \"summarys_kr\":summarys_kr, \"keywords\":keywords})\n",
        "    df_papers.to_excel(\"df_papers.xlsx\")\n",
        "    print(f\"#     DONE!\")\n",
        "\n",
        "    # 3. Word Cloud 제작\n",
        "    keywords_all = list(itertools.chain(*keywords))\n",
        "    text = ' '.join(keywords_all)\n",
        "    wordcloud = WordCloud(width=wc_width, height=wc_height, \n",
        "                                        colormap=wc_colormap, \n",
        "                                        background_color='white').generate(text)\n",
        "\n",
        "    # 워드 클라우드 이미지를 출력합니다.\n",
        "    fig, ax = plt.subplots(figsize=(8, 8))\n",
        "    ax.imshow(wordcloud, interpolation='bilinear')\n",
        "    ax.axis('off')\n",
        "    fig.savefig(\"wordcloud.png\")\n",
        "    print(f\"#     DONE!\")"
      ],
      "metadata": {
        "id": "wHJ_IoEHU9Ss"
      },
      "execution_count": null,
      "outputs": []
    },
    {
      "cell_type": "code",
      "source": [
        "get_paperdata([\"perovskite\", \"stability\"])"
      ],
      "metadata": {
        "id": "-LamEJQ8BQrr"
      },
      "execution_count": null,
      "outputs": []
    }
  ]
}